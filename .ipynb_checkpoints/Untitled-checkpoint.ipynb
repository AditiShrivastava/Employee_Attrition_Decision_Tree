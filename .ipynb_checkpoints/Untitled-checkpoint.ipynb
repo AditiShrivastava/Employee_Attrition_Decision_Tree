{
 "cells": [
  {
   "cell_type": "code",
   "execution_count": 9,
   "metadata": {},
   "outputs": [],
   "source": [
    "import numpy as np\n",
    "import pandas as pd\n",
    "eps = np.finfo(float).eps\n",
    "from numpy import log2 as log\n",
    "import ipdb\n",
    "\n",
    "data = pd.read_csv(\"train.csv\") \n",
    "train, validate = np.split(data, [int(.8*len(data))])\n",
    "colnames=[]\n",
    "colnames.append(\"Work_accident\")\n",
    "colnames.append(\"promotion_last_5years\")\n",
    "colnames.append(\"sales\")\n",
    "colnames.append(\"salary\")\n",
    "#colnames = ['Work_accident','left','promotion_last_5years', 'salary', 'sales']\n",
    "#colnames1 = ['Work_accident','promotion_last_5years', 'salary', 'sales']\n",
    "#datac = pd.read_csv('train.csv', usecols=colnames)\n",
    "#trainc, validatec = np.split(datac, [int(.8*len(datac))])"
   ]
  },
  {
   "cell_type": "code",
   "execution_count": 10,
   "metadata": {},
   "outputs": [],
   "source": [
    "def find_entropy(data):\n",
    "    Class = \"left\"\n",
    "    entropy = 0\n",
    "    values = data[Class].unique()\n",
    "    for value in values:\n",
    "        fraction = data[Class].value_counts()[value]/float(len(data[Class]))\n",
    "        entropy += -fraction*np.log2(fraction+eps)\n",
    "    return entropy"
   ]
  },
  {
   "cell_type": "code",
   "execution_count": 11,
   "metadata": {},
   "outputs": [],
   "source": [
    "#root_entropy = find_entropy(train)"
   ]
  },
  {
   "cell_type": "code",
   "execution_count": 12,
   "metadata": {},
   "outputs": [],
   "source": [
    "def find_entropy_attribute(data,attribute):\n",
    "    Class = \"left\"\n",
    "    target_variables = data[Class].unique()  \n",
    "    variables = data[attribute].unique() \n",
    "    entropy2 = 0\n",
    "    for variable in variables:\n",
    "      entropy = 0\n",
    "      for target_variable in target_variables:\n",
    "          num1 = len(data[attribute][data[attribute]==variable][data[Class] ==target_variable])\n",
    "          num = num1 * 1.0\n",
    "          denn = len(data[attribute][data[attribute]==variable])\n",
    "          den = denn * 1.0\n",
    "          fraction = (num)/(den+eps)\n",
    "          entropy += -fraction*log(fraction+eps)\n",
    "      fraction2 = den/len(data)\n",
    "      entropy2 += -fraction2*entropy\n",
    "    return abs(entropy2)"
   ]
  },
  {
   "cell_type": "code",
   "execution_count": 13,
   "metadata": {},
   "outputs": [],
   "source": [
    "def find_winner(df):\n",
    "    Entropy_att = []\n",
    "    IG = []\n",
    "    for key in colnames:\n",
    "        IG.append(find_entropy(df)-find_entropy_attribute(df,key))\n",
    "    max1=0.0\n",
    "    for a in IG:\n",
    "        if a>max1:\n",
    "            max1=a\n",
    "    ans = IG.index(max1)\n",
    "    attribute = colnames[ans]\n",
    "    return attribute, max1"
   ]
  },
  {
   "cell_type": "code",
   "execution_count": null,
   "metadata": {},
   "outputs": [],
   "source": []
  },
  {
   "cell_type": "code",
   "execution_count": 14,
   "metadata": {},
   "outputs": [],
   "source": [
    "def get_subtable(df, node,value):\n",
    "  return df[df[node] == value].reset_index(drop=True)"
   ]
  },
  {
   "cell_type": "code",
   "execution_count": 15,
   "metadata": {},
   "outputs": [],
   "source": [
    "def buildTree(df,tree=None): \n",
    "    Class = \"left\" \n",
    "    #ipdb.set_trace()\n",
    "    node, max2 = find_winner(df)\n",
    "    if max2 == 0.0:\n",
    "        return 0\n",
    "    attValue = np.unique(df[node])  \n",
    "    if tree is None:                    \n",
    "        tree={}\n",
    "        tree[node] = {}\n",
    "    for value in attValue: \n",
    "        subtable = get_subtable(df,node,value)\n",
    "        clValue,counts = np.unique(subtable['left'],return_counts=True)                        \n",
    "        \n",
    "        if len(counts)==1:\n",
    "            tree[node][value] = clValue[0]                                                    \n",
    "        else:        \n",
    "            tree[node][value] = buildTree(subtable) \n",
    "                   \n",
    "    return tree"
   ]
  },
  {
   "cell_type": "code",
   "execution_count": 16,
   "metadata": {},
   "outputs": [
    {
     "data": {
      "text/plain": [
       "{'Work_accident': {0: {'salary': {'high': {'sales': {'IT': 0,\n",
       "      'RandD': 0,\n",
       "      'accounting': {'promotion_last_5years': {0: 0, 1: 0}},\n",
       "      'hr': {'promotion_last_5years': {0: 0, 1: 0}},\n",
       "      'management': {'promotion_last_5years': {0: 0, 1: 0}},\n",
       "      'marketing': 0,\n",
       "      'product_mng': 0,\n",
       "      'sales': {'promotion_last_5years': {0: 0, 1: 0}},\n",
       "      'support': 0,\n",
       "      'technical': 0}},\n",
       "    'low': {'sales': {'IT': {'promotion_last_5years': {0: 0, 1: 1}},\n",
       "      'RandD': {'promotion_last_5years': {0: 0, 1: 0}},\n",
       "      'accounting': {'promotion_last_5years': {0: 0, 1: 0}},\n",
       "      'hr': {'promotion_last_5years': {0: 0, 1: 0}},\n",
       "      'management': 0,\n",
       "      'marketing': {'promotion_last_5years': {0: 0, 1: 0}},\n",
       "      'product_mng': 0,\n",
       "      'sales': {'promotion_last_5years': {0: 0, 1: 0}},\n",
       "      'support': {'promotion_last_5years': {0: 0, 1: 0}},\n",
       "      'technical': {'promotion_last_5years': {0: 0, 1: 0}}}},\n",
       "    'medium': {'sales': {'IT': {'promotion_last_5years': {0: 0, 1: 1}},\n",
       "      'RandD': {'promotion_last_5years': {0: 0, 1: 0}},\n",
       "      'accounting': {'promotion_last_5years': {0: 0, 1: 0}},\n",
       "      'hr': {'promotion_last_5years': {0: 0, 1: 0}},\n",
       "      'management': {'promotion_last_5years': {0: 0, 1: 0}},\n",
       "      'marketing': {'promotion_last_5years': {0: 0, 1: 0}},\n",
       "      'product_mng': 0,\n",
       "      'sales': {'promotion_last_5years': {0: 0, 1: 0}},\n",
       "      'support': {'promotion_last_5years': {0: 0, 1: 0}},\n",
       "      'technical': {'promotion_last_5years': {0: 0, 1: 0}}}}}},\n",
       "  1: {'salary': {'high': 0,\n",
       "    'low': {'sales': {'IT': 0,\n",
       "      'RandD': {'promotion_last_5years': {0: 0, 1: 0}},\n",
       "      'accounting': 0,\n",
       "      'hr': 0,\n",
       "      'management': {'promotion_last_5years': {0: 0, 1: 0}},\n",
       "      'marketing': {'promotion_last_5years': {0: 0, 1: 0}},\n",
       "      'product_mng': 0,\n",
       "      'sales': {'promotion_last_5years': {0: 0, 1: 0}},\n",
       "      'support': 0,\n",
       "      'technical': {'promotion_last_5years': {0: 0, 1: 0}}}},\n",
       "    'medium': {'sales': {'IT': 0,\n",
       "      'RandD': {'promotion_last_5years': {0: 0, 1: 0}},\n",
       "      'accounting': 0,\n",
       "      'hr': {'promotion_last_5years': {0: 0, 1: 0}},\n",
       "      'management': {'promotion_last_5years': {0: 0, 1: 0}},\n",
       "      'marketing': {'promotion_last_5years': {0: 0, 1: 0}},\n",
       "      'product_mng': 0,\n",
       "      'sales': {'promotion_last_5years': {0: 0, 1: 0}},\n",
       "      'support': {'promotion_last_5years': {0: 0, 1: 0}},\n",
       "      'technical': {'promotion_last_5years': {0: 0, 1: 0}}}}}}}}"
      ]
     },
     "execution_count": 16,
     "metadata": {},
     "output_type": "execute_result"
    }
   ],
   "source": [
    "buildTree(train)"
   ]
  },
  {
   "cell_type": "code",
   "execution_count": 17,
   "metadata": {},
   "outputs": [],
   "source": [
    "def find_max_gain(data):\n",
    "    max_gain=0\n",
    "    attr = list(data)\n",
    "    for a in attr:\n",
    "        gain = root_entropy - find_entropy_attribute(data,a)\n",
    "        if a!=\"left\" and gain > max_gain :\n",
    "            max_gain = gain\n",
    "            col = a\n",
    "    return col\n",
    "    "
   ]
  },
  {
   "cell_type": "code",
   "execution_count": 18,
   "metadata": {},
   "outputs": [
    {
     "ename": "NameError",
     "evalue": "name 'trainc' is not defined",
     "output_type": "error",
     "traceback": [
      "\u001b[0;31m---------------------------------------------------------------------------\u001b[0m",
      "\u001b[0;31mNameError\u001b[0m                                 Traceback (most recent call last)",
      "\u001b[0;32m<ipython-input-18-6beb6dd68e10>\u001b[0m in \u001b[0;36m<module>\u001b[0;34m\u001b[0m\n\u001b[0;32m----> 1\u001b[0;31m \u001b[0mfind_max_gain\u001b[0m\u001b[0;34m(\u001b[0m\u001b[0mtrainc\u001b[0m\u001b[0;34m)\u001b[0m\u001b[0;34m\u001b[0m\u001b[0;34m\u001b[0m\u001b[0m\n\u001b[0m",
      "\u001b[0;31mNameError\u001b[0m: name 'trainc' is not defined"
     ]
    }
   ],
   "source": [
    "find_max_gain(trainc)"
   ]
  },
  {
   "cell_type": "code",
   "execution_count": null,
   "metadata": {},
   "outputs": [],
   "source": [
    "class Tree(object):\n",
    "    def __init__(self, pos, neg, children):\n",
    "        self.pos=pos\n",
    "        self.neg=neg\n",
    "        self.children = children\n",
    "    def add_child(self, obj):\n",
    "        self.children.append(obj)\n"
   ]
  },
  {
   "cell_type": "code",
   "execution_count": null,
   "metadata": {},
   "outputs": [],
   "source": [
    "def build_tree(data):\n",
    "    root = find_max_gain(data)\n",
    "    #count pos and neg\n",
    "    #create new node\n",
    "    node = Tree(pos,neg,[])\n",
    "    node.add_child(root)\n",
    "    variables = data[root].unique()\n",
    "    for v in variables:\n",
    "        data1 = data[data[root] == v]\n",
    "        data1.drop([root], axis=1)\n",
    "        child[v] = build_tree(data1)\n",
    "    \n",
    "    "
   ]
  },
  {
   "cell_type": "code",
   "execution_count": null,
   "metadata": {},
   "outputs": [],
   "source": []
  },
  {
   "cell_type": "code",
   "execution_count": null,
   "metadata": {},
   "outputs": [],
   "source": []
  },
  {
   "cell_type": "code",
   "execution_count": null,
   "metadata": {},
   "outputs": [],
   "source": []
  },
  {
   "cell_type": "code",
   "execution_count": null,
   "metadata": {},
   "outputs": [],
   "source": []
  },
  {
   "cell_type": "code",
   "execution_count": null,
   "metadata": {},
   "outputs": [],
   "source": []
  },
  {
   "cell_type": "code",
   "execution_count": null,
   "metadata": {},
   "outputs": [],
   "source": []
  },
  {
   "cell_type": "code",
   "execution_count": null,
   "metadata": {},
   "outputs": [],
   "source": []
  }
 ],
 "metadata": {
  "kernelspec": {
   "display_name": "Python 3",
   "language": "python",
   "name": "python3"
  },
  "language_info": {
   "codemirror_mode": {
    "name": "ipython",
    "version": 3
   },
   "file_extension": ".py",
   "mimetype": "text/x-python",
   "name": "python",
   "nbconvert_exporter": "python",
   "pygments_lexer": "ipython3",
   "version": "3.6.7"
  }
 },
 "nbformat": 4,
 "nbformat_minor": 2
}
